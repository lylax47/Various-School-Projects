{
 "cells": [
  {
   "cell_type": "code",
   "execution_count": 2,
   "metadata": {
    "collapsed": true
   },
   "outputs": [],
   "source": [
    "import regex as re\n",
    "import pandas as pd\n",
    "import numpy as np\n",
    "import nltk\n",
    "import csv\n",
    "import itertools as it"
   ]
  },
  {
   "cell_type": "code",
   "execution_count": 3,
   "metadata": {
    "collapsed": true
   },
   "outputs": [],
   "source": [
    "def imp_csv ():\n",
    "    df = pd.read_csv('info.csv')\n",
    "    df_t = df[['ID', 'Правдивый текст', 'Пол']]\n",
    "    df_f = df[['ID', 'Ложный текст', 'Пол']]\n",
    "    df_t['Truth'] = list((0,0)*57)\n",
    "    df_f['Truth'] = list((1,1)*57)\n",
    "    df_f.columns = ['ID', 'Text', 'Sex', 'Truth']\n",
    "    df_t.columns = ['ID', 'Text', 'Sex', 'Truth']\n",
    "    df2 = pd.concat([df_t, df_f], axis=0)\n",
    "    df2 = df2.dropna()\n",
    "    df2.reset_index()\n",
    "    df2.index = range(226)\n",
    "    return df2"
   ]
  },
  {
   "cell_type": "code",
   "execution_count": 4,
   "metadata": {
    "collapsed": true
   },
   "outputs": [],
   "source": [
    "def tot_wd_avg(lang):\n",
    "    word_leng = {}\n",
    "    TTR = {}\n",
    "    hapax = {}\n",
    "    yules = {}\n",
    "    for index, row in lang.iterrows():\n",
    "        sent_leng_list = []\n",
    "        words = {}\n",
    "        sents = re.split(r'(?<!\\w\\.\\w.)(?<![A-Z][a-z]\\.)(?<=\\.|\\?)\\s', row['Text'])\n",
    "        for sent in sents:\n",
    "            sent_tks = nltk.tokenize.word_tokenize(sent.lower())\n",
    "            sent_leng = len(sent_tks)\n",
    "            sent_leng_list.append(sent_leng)\n",
    "            for word in sent_tks:\n",
    "                if word in words.keys():\n",
    "                    words[word] += 1\n",
    "                else:\n",
    "                    words[word] = 1\n",
    "        tot_len = 0\n",
    "        for length in sent_leng_list:\n",
    "            tot_len += length\n",
    "        avg_len = tot_len/len(sent_leng_list)\n",
    "        lang.ix[index, 'Avg_sent'] = avg_len\n",
    "        total = 0\n",
    "        word_tot = 0\n",
    "        sing = 0\n",
    "        for word,count in words.items():\n",
    "            total += count\n",
    "            word_tot += len(word)*count\n",
    "            if count == 1:\n",
    "                sing += 1\n",
    "        ttr = len(words)/total\n",
    "        word_avg = word_tot/total\n",
    "        hapax_val = sing/len(words)\n",
    "        lang.ix[index, 'TTR'] = ttr\n",
    "        lang.ix[index, 'Avg_word'] = word_avg\n",
    "        lang.ix[index, 'Hapax'] = hapax_val\n",
    "        m1 = len(words)\n",
    "        m2 = sum([len(list(g))*(freq**2) for freq,g in it.groupby(sorted(words.values()))])\n",
    "        yulesk = 10000*(m2 - m1)/(m1 * m1)\n",
    "        try:\n",
    "            lang.ix[index, 'Yules'] = yulesk\n",
    "        except ZeroDivisionError:\n",
    "            lang.ix[index, 'Yules'] = yulesk\n",
    "    return (lang)"
   ]
  },
  {
   "cell_type": "code",
   "execution_count": 5,
   "metadata": {
    "collapsed": true
   },
   "outputs": [],
   "source": [
    "def count_user_avgs(data):\n",
    "    avgs = tot_wd_avg(data)\n",
    "    return avgs"
   ]
  },
  {
   "cell_type": "code",
   "execution_count": 6,
   "metadata": {
    "collapsed": true
   },
   "outputs": [],
   "source": [
    "def write_csv(final):\n",
    "    final.to_csv('lex.csv')"
   ]
  },
  {
   "cell_type": "code",
   "execution_count": 7,
   "metadata": {
    "collapsed": false
   },
   "outputs": [
    {
     "name": "stderr",
     "output_type": "stream",
     "text": [
      "/home/john/anaconda3/envs/conda3/lib/python3.5/site-packages/ipykernel/__main__.py:5: SettingWithCopyWarning: \n",
      "A value is trying to be set on a copy of a slice from a DataFrame.\n",
      "Try using .loc[row_indexer,col_indexer] = value instead\n",
      "\n",
      "See the caveats in the documentation: http://pandas.pydata.org/pandas-docs/stable/indexing.html#indexing-view-versus-copy\n",
      "/home/john/anaconda3/envs/conda3/lib/python3.5/site-packages/ipykernel/__main__.py:6: SettingWithCopyWarning: \n",
      "A value is trying to be set on a copy of a slice from a DataFrame.\n",
      "Try using .loc[row_indexer,col_indexer] = value instead\n",
      "\n",
      "See the caveats in the documentation: http://pandas.pydata.org/pandas-docs/stable/indexing.html#indexing-view-versus-copy\n"
     ]
    }
   ],
   "source": [
    "data = imp_csv()\n",
    "avgs = count_user_avgs(data)\n",
    "write_csv(avgs)"
   ]
  },
  {
   "cell_type": "code",
   "execution_count": null,
   "metadata": {
    "collapsed": true
   },
   "outputs": [],
   "source": []
  }
 ],
 "metadata": {
  "anaconda-cloud": {},
  "kernelspec": {
   "display_name": "Python [conda env:conda3]",
   "language": "python",
   "name": "conda-env-conda3-py"
  },
  "language_info": {
   "codemirror_mode": {
    "name": "ipython",
    "version": 3
   },
   "file_extension": ".py",
   "mimetype": "text/x-python",
   "name": "python",
   "nbconvert_exporter": "python",
   "pygments_lexer": "ipython3",
   "version": "3.5.2"
  }
 },
 "nbformat": 4,
 "nbformat_minor": 1
}
