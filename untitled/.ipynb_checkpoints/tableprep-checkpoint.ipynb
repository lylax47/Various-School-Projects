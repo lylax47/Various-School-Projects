{
 "cells": [
  {
   "cell_type": "code",
   "execution_count": 2,
   "metadata": {
    "collapsed": false
   },
   "outputs": [],
   "source": [
    "import os\n",
    "from string import punctuation\n",
    "import regex as re\n",
    "import pandas as pd\n",
    "from nltk.tokenize import word_tokenize"
   ]
  },
  {
   "cell_type": "code",
   "execution_count": 3,
   "metadata": {
    "collapsed": false
   },
   "outputs": [],
   "source": [
    "def fix_texts(text_tab):\n",
    "    text_tab['Filename'] = 'a'\n",
    "    for index, row in text_tab.iterrows():\n",
    "        r = int(row['ID'])\n",
    "        if row['Truth'] == 1:\n",
    "            text_tab.Filename[(text_tab['ID'] == r) & (text_tab['Truth'] == 1)] = '{0}Л.docx'.format(r)\n",
    "        else:\n",
    "            text_tab.Filename[(text_tab['ID'] == r) & (text_tab['Truth'] == 0)] = '{0}П.docx'.format(r)\n",
    "    return text_tab"
   ]
  },
  {
   "cell_type": "code",
   "execution_count": 4,
   "metadata": {
    "collapsed": true
   },
   "outputs": [],
   "source": [
    "def imp():\n",
    "#     allinfo = pd.read_csv('info/allinfo.csv')  Need to fix/rewrite logisitic function (broken)\n",
    "    fields = ['Filename', 'WC', 'WPS', 'Sixltr', 'Dic', 'Функция', 'Местоимение', 'Личноеместоимение',\\\n",
    "             'я', 'мы', 'онаон', 'они', 'вербальные', 'Наречие', 'Предлог', 'Союз', 'Отрицание',\\\n",
    "             'quant', 'Числительное', 'Общество', 'Позитив', 'Когнитив', 'Интуиция', 'Мотивация',\\\n",
    "              'Несоответствие', 'Попытка', 'Уверенность','Помеха', 'Включение', 'Исключение',\\\n",
    "             'Перцепция', 'Видение', 'Слышание', 'Чувствование', 'Пространство', 'Время',\\\n",
    "             'Работа', 'AllPunc', 'Period', 'Comma', 'Dash']\n",
    "    fields2 = ['ID', 'Text', 'Truth', 'Avg_sent', 'TTR', 'Avg_word', 'Hapax', 'Yules']\n",
    "    newinfo = pd.read_excel('info/LIWC2015 Results (Тексты (226 files)).xlsx', usecols=fields)\n",
    "    texts = pd.read_csv('info/lex.csv', usecols=fields2)\n",
    "    newtexts = fix_texts(texts)\n",
    "    newtexts.to_csv('test.csv')\n",
    "    comb = newinfo.merge(newtexts, on='Filename')\n",
    "    return comb"
   ]
  },
  {
   "cell_type": "code",
   "execution_count": 5,
   "metadata": {
    "collapsed": false
   },
   "outputs": [],
   "source": [
    "def dict_make():\n",
    "    sheets = {}\n",
    "    for root, dirs, files in os.walk('dict/'):\n",
    "        for f in files:\n",
    "            sheets[f] = pd.read_excel(os.path.join(root, f))\n",
    "    return sheets"
   ]
  },
  {
   "cell_type": "code",
   "execution_count": 6,
   "metadata": {
    "collapsed": false
   },
   "outputs": [],
   "source": [
    "def find_count(text, wlist1, wlist2=None):\n",
    "    count1 = 0\n",
    "    count2 = 0\n",
    "    tokens = [x.lower() for x in word_tokenize(text)]\n",
    "    no_punc = [x for x in tokens if x not in punctuation]\n",
    "    for cw in wlist1:\n",
    "        pat1 = re.compile('\\s{0}'.format(cw))\n",
    "        count1 += len(re.findall(pat1, text.lower()))\n",
    "    proc1 = count1/len(no_punc) * 100\n",
    "    if wlist2:\n",
    "        for cw in wlist2:\n",
    "            pat2 = re.compile('\\s{0}'.format(cw))\n",
    "            count2 += len(re.findall(pat2, text.lower()))\n",
    "        proc2 = count2/len(no_punc) * 100\n",
    "        return proc1, proc2\n",
    "    else:\n",
    "        return proc1"
   ]
  },
  {
   "cell_type": "code",
   "execution_count": 7,
   "metadata": {
    "collapsed": false
   },
   "outputs": [],
   "source": [
    "def sort(texts, text, v, index, name1, v1=None, name2=None, v2=None, n=1):\n",
    "    if n == 1:\n",
    "        wordlist1 = v[v['vals']==v1].ix[:,0].tolist()\n",
    "        prop = find_count(text, wordlist1)\n",
    "        texts[name1].ix[index] = prop\n",
    "    elif n == 2:\n",
    "        wordlist1 = v[v['vals']==v1].ix[:,0].tolist()\n",
    "        wordlist2 = v[v['vals']==v2].ix[:,0].tolist()\n",
    "        prop = find_count(text, wordlist1, wordlist2)\n",
    "        texts[name1].ix[index], texts[name2].ix[index] = prop[0], prop[1]\n",
    "    else:\n",
    "        prop = find_count(text, v)\n",
    "        texts[name1].ix[index] = prop\n",
    "    return texts"
   ]
  },
  {
   "cell_type": "code",
   "execution_count": 8,
   "metadata": {
    "collapsed": false
   },
   "outputs": [],
   "source": [
    "def word_counts(dicts, texts):\n",
    "    texts['Posemo'], texts['DMsub'], texts['DMadd'], texts['FWcount'],\\\n",
    "    texts['NP'], texts['ADVP'], texts['ADJP'], texts['NUMP'], texts['FULLP'],\\\n",
    "    texts['Ego'], texts['Inten'], texts['Perc'], texts['Dec'], texts['И'], texts['В'],\\\n",
    "    texts['Не'], texts['На'], texts['С'], texts['Что'], texts['По'], texts['Но'],\\\n",
    "    texts['Как'] = 0,0,0,0,0,0,0,0,0,0,0,0,0,0,0,0,0,0,0,0,0,0\n",
    "    for index, row in texts.iterrows():\n",
    "        text = row['Text']\n",
    "        for k,v in dicts.items():\n",
    "            if k == 'Словарь эмоц.xlsx':\n",
    "                name1, v1 = 'Posemo', 1\n",
    "                texts = sort(texts, text, v, index, name1, v1)\n",
    "            elif k == 'Словарь ДМ Рамазани.xlsx':\n",
    "                name1, name2, v1, v2 = 'DMadd', 'DMsub', 3, 14\n",
    "                texts = sort(texts, text, v, index, name1, v1, name2, v2, 2)\n",
    "            elif k == 'Словарь 100 СЧС.xlsx':\n",
    "                name1, v1 = 'FWcount', 1\n",
    "                texts = sort(texts, text, v, index, name1, v1)\n",
    "                kwlist = ['и', 'в', 'не', 'на', 'с', 'что', 'по', 'но', 'как']\n",
    "                for kw in kwlist:\n",
    "                    kwname = kw.title()\n",
    "                    name1 = kwname\n",
    "                    texts = sort(texts, text, [kw], index, name1, None, None, None, 3)\n",
    "            elif k == 'Словарь местоимений.xlsx':\n",
    "                name1, name2, v1, v2 = 'NP', 'ADVP', 1, 2\n",
    "                texts = sort(texts, text, v, index, name1, v1, name2, v2, 2)\n",
    "                name1, name2, v1, v2 = 'ADJP', 'NUMP', 3, 4\n",
    "                texts = sort(texts, text, v, index, name1, v1, name2, v2, 2)\n",
    "                texts['FULLP'].ix[index] = texts['NP'].ix[index] + texts['ADVP'].ix[index] +\\\n",
    "                texts['ADJP'].ix[index] + texts['NUMP'].ix[index]\n",
    "            elif k == 'Словарь эго.xlsx':\n",
    "                name1, v1 = 'Ego', 1\n",
    "                texts = sort(texts, text, v, index, name1, v1)\n",
    "            elif k == 'Словарь интенсиф. и даунтаунов.xlsx':\n",
    "                name1, v1 = 'Inten', 1\n",
    "                texts = sort(texts, text, v, index, name1, v1)\n",
    "            elif k == 'Словарь перцептивной лексики.xlsx':\n",
    "                name1, v1 = 'Perc', 1\n",
    "                texts = sort(texts, text, v, index, name1, v1)\n",
    "            elif k == 'Словарь дейктиков-указателей.xlsx':\n",
    "                name1, v1 = 'Dec', 1\n",
    "                texts = sort(texts, text, v, index, name1, v1)\n",
    "    return texts"
   ]
  },
  {
   "cell_type": "code",
   "execution_count": 9,
   "metadata": {
    "collapsed": false
   },
   "outputs": [],
   "source": [
    "def extract():\n",
    "    table = imp()\n",
    "    dicts = dict_make()\n",
    "    wc_tables = word_counts(dicts, table)\n",
    "    wc_tables.to_csv('allinfo.csv')\n",
    "    "
   ]
  },
  {
   "cell_type": "code",
   "execution_count": 10,
   "metadata": {
    "collapsed": false,
    "scrolled": false
   },
   "outputs": [
    {
     "name": "stderr",
     "output_type": "stream",
     "text": [
      "/home/john/anaconda3/envs/conda3/lib/python3.5/site-packages/ipykernel/__main__.py:8: SettingWithCopyWarning: \n",
      "A value is trying to be set on a copy of a slice from a DataFrame\n",
      "\n",
      "See the caveats in the documentation: http://pandas.pydata.org/pandas-docs/stable/indexing.html#indexing-view-versus-copy\n",
      "/home/john/anaconda3/envs/conda3/lib/python3.5/site-packages/ipykernel/__main__.py:6: SettingWithCopyWarning: \n",
      "A value is trying to be set on a copy of a slice from a DataFrame\n",
      "\n",
      "See the caveats in the documentation: http://pandas.pydata.org/pandas-docs/stable/indexing.html#indexing-view-versus-copy\n",
      "/home/john/anaconda3/envs/conda3/lib/python3.5/site-packages/pandas/core/indexing.py:132: SettingWithCopyWarning: \n",
      "A value is trying to be set on a copy of a slice from a DataFrame\n",
      "\n",
      "See the caveats in the documentation: http://pandas.pydata.org/pandas-docs/stable/indexing.html#indexing-view-versus-copy\n",
      "  self._setitem_with_indexer(indexer, value)\n"
     ]
    }
   ],
   "source": [
    "extract()"
   ]
  },
  {
   "cell_type": "code",
   "execution_count": null,
   "metadata": {
    "collapsed": true
   },
   "outputs": [],
   "source": []
  }
 ],
 "metadata": {
  "anaconda-cloud": {},
  "kernelspec": {
   "display_name": "Python [conda env:conda3]",
   "language": "python",
   "name": "conda-env-conda3-py"
  },
  "language_info": {
   "codemirror_mode": {
    "name": "ipython",
    "version": 3
   },
   "file_extension": ".py",
   "mimetype": "text/x-python",
   "name": "python",
   "nbconvert_exporter": "python",
   "pygments_lexer": "ipython3",
   "version": "3.5.2"
  }
 },
 "nbformat": 4,
 "nbformat_minor": 1
}
