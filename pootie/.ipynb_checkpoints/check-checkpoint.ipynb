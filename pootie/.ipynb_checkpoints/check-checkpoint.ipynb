{
 "cells": [
  {
   "cell_type": "code",
   "execution_count": 184,
   "metadata": {
    "collapsed": true
   },
   "outputs": [],
   "source": [
    "import numpy as np\n",
    "import pandas as pd\n",
    "import csv\n",
    "from collections import defaultdict as dd"
   ]
  },
  {
   "cell_type": "code",
   "execution_count": 115,
   "metadata": {
    "collapsed": true
   },
   "outputs": [],
   "source": [
    "sents = pd.read_excel('sentences.xlsx.xlsx')\n",
    "words = pd.read_excel('words.xls.xlsx')"
   ]
  },
  {
   "cell_type": "code",
   "execution_count": 109,
   "metadata": {
    "collapsed": false
   },
   "outputs": [
    {
     "data": {
      "text/html": [
       "<div>\n",
       "<table border=\"1\" class=\"dataframe\">\n",
       "  <thead>\n",
       "    <tr style=\"text-align: right;\">\n",
       "      <th></th>\n",
       "      <th>text</th>\n",
       "      <th>date</th>\n",
       "      <th>quarter</th>\n",
       "      <th>year</th>\n",
       "      <th>quarter, year</th>\n",
       "      <th>Q-Y</th>\n",
       "      <th>previous_quart</th>\n",
       "      <th>export</th>\n",
       "      <th>price</th>\n",
       "      <th>agr_classified</th>\n",
       "      <th>Unnamed: 10</th>\n",
       "    </tr>\n",
       "  </thead>\n",
       "  <tbody>\n",
       "    <tr>\n",
       "      <th>0</th>\n",
       "      <td>45</td>\n",
       "      <td>2000-03-15</td>\n",
       "      <td>1</td>\n",
       "      <td>2000</td>\n",
       "      <td>1, 2000</td>\n",
       "      <td>Q1, 2000</td>\n",
       "      <td>Q4, 1999</td>\n",
       "      <td>38832.3</td>\n",
       "      <td>100.93</td>\n",
       "      <td>12</td>\n",
       "      <td>NaN</td>\n",
       "    </tr>\n",
       "    <tr>\n",
       "      <th>1</th>\n",
       "      <td>241</td>\n",
       "      <td>2000-02-04</td>\n",
       "      <td>1</td>\n",
       "      <td>2000</td>\n",
       "      <td>1, 2000</td>\n",
       "      <td>Q1, 2000</td>\n",
       "      <td>Q4, 1999</td>\n",
       "      <td>21469.2</td>\n",
       "      <td>49.45</td>\n",
       "      <td>10</td>\n",
       "      <td>NaN</td>\n",
       "    </tr>\n",
       "    <tr>\n",
       "      <th>2</th>\n",
       "      <td>97</td>\n",
       "      <td>2000-03-03</td>\n",
       "      <td>1</td>\n",
       "      <td>2000</td>\n",
       "      <td>1, 2000</td>\n",
       "      <td>Q1, 2000</td>\n",
       "      <td>Q4, 1999</td>\n",
       "      <td>31451.0</td>\n",
       "      <td>68.10</td>\n",
       "      <td>31</td>\n",
       "      <td>NaN</td>\n",
       "    </tr>\n",
       "    <tr>\n",
       "      <th>3</th>\n",
       "      <td>199</td>\n",
       "      <td>2000-03-20</td>\n",
       "      <td>1</td>\n",
       "      <td>2000</td>\n",
       "      <td>1, 2000</td>\n",
       "      <td>Q1, 2000</td>\n",
       "      <td>Q4, 1999</td>\n",
       "      <td>40302.1</td>\n",
       "      <td>97.32</td>\n",
       "      <td>3</td>\n",
       "      <td>NaN</td>\n",
       "    </tr>\n",
       "    <tr>\n",
       "      <th>4</th>\n",
       "      <td>34</td>\n",
       "      <td>2000-02-25</td>\n",
       "      <td>1</td>\n",
       "      <td>2000</td>\n",
       "      <td>1, 2000</td>\n",
       "      <td>Q1, 2000</td>\n",
       "      <td>Q4, 1999</td>\n",
       "      <td>5449.5</td>\n",
       "      <td>17.00</td>\n",
       "      <td>92</td>\n",
       "      <td>NaN</td>\n",
       "    </tr>\n",
       "  </tbody>\n",
       "</table>\n",
       "</div>"
      ],
      "text/plain": [
       "   text       date  quarter  year quarter, year       Q-Y previous_quart  \\\n",
       "0    45 2000-03-15        1  2000       1, 2000  Q1, 2000       Q4, 1999   \n",
       "1   241 2000-02-04        1  2000       1, 2000  Q1, 2000       Q4, 1999   \n",
       "2    97 2000-03-03        1  2000       1, 2000  Q1, 2000       Q4, 1999   \n",
       "3   199 2000-03-20        1  2000       1, 2000  Q1, 2000       Q4, 1999   \n",
       "4    34 2000-02-25        1  2000       1, 2000  Q1, 2000       Q4, 1999   \n",
       "\n",
       "    export   price  agr_classified  Unnamed: 10  \n",
       "0  38832.3  100.93              12          NaN  \n",
       "1  21469.2   49.45              10          NaN  \n",
       "2  31451.0   68.10              31          NaN  \n",
       "3  40302.1   97.32               3          NaN  \n",
       "4   5449.5   17.00              92          NaN  "
      ]
     },
     "execution_count": 109,
     "metadata": {},
     "output_type": "execute_result"
    }
   ],
   "source": [
    "sents.head()"
   ]
  },
  {
   "cell_type": "code",
   "execution_count": 110,
   "metadata": {
    "collapsed": false
   },
   "outputs": [
    {
     "data": {
      "text/html": [
       "<div>\n",
       "<table border=\"1\" class=\"dataframe\">\n",
       "  <thead>\n",
       "    <tr style=\"text-align: right;\">\n",
       "      <th></th>\n",
       "      <th>text</th>\n",
       "      <th>date</th>\n",
       "      <th>year</th>\n",
       "      <th>year-1</th>\n",
       "      <th>quarter</th>\n",
       "      <th>year.1</th>\n",
       "      <th>quarter, year</th>\n",
       "      <th>previous_quart</th>\n",
       "      <th>Quarter</th>\n",
       "      <th>neg_words</th>\n",
       "      <th>...</th>\n",
       "      <th>Previous Year NATO</th>\n",
       "      <th>QNATO_expansion</th>\n",
       "      <th>QNATO_expansion1</th>\n",
       "      <th>Q-1NATO_expansion</th>\n",
       "      <th>Q-1NATO_expansion1</th>\n",
       "      <th>1999NATO</th>\n",
       "      <th>2004NATO</th>\n",
       "      <th>2009NATO</th>\n",
       "      <th>Unnamed: 29</th>\n",
       "      <th>Unnamed: 30</th>\n",
       "    </tr>\n",
       "  </thead>\n",
       "  <tbody>\n",
       "    <tr>\n",
       "      <th>0</th>\n",
       "      <td>97.0</td>\n",
       "      <td>2000-03-03</td>\n",
       "      <td>2000.0</td>\n",
       "      <td>1999.0</td>\n",
       "      <td>1.0</td>\n",
       "      <td>2000.0</td>\n",
       "      <td>1, 2000</td>\n",
       "      <td>Q4, 1999</td>\n",
       "      <td>Q1 - 2000</td>\n",
       "      <td>27.0</td>\n",
       "      <td>...</td>\n",
       "      <td>1</td>\n",
       "      <td>0</td>\n",
       "      <td>0</td>\n",
       "      <td>0</td>\n",
       "      <td>0</td>\n",
       "      <td>1</td>\n",
       "      <td>0</td>\n",
       "      <td>0</td>\n",
       "      <td>Q4, 1999</td>\n",
       "      <td>74.666667</td>\n",
       "    </tr>\n",
       "    <tr>\n",
       "      <th>1</th>\n",
       "      <td>45.0</td>\n",
       "      <td>2000-03-15</td>\n",
       "      <td>2000.0</td>\n",
       "      <td>1999.0</td>\n",
       "      <td>1.0</td>\n",
       "      <td>2000.0</td>\n",
       "      <td>1, 2000</td>\n",
       "      <td>Q4, 1999</td>\n",
       "      <td>Q1 - 2000</td>\n",
       "      <td>2.0</td>\n",
       "      <td>...</td>\n",
       "      <td>1</td>\n",
       "      <td>0</td>\n",
       "      <td>0</td>\n",
       "      <td>0</td>\n",
       "      <td>0</td>\n",
       "      <td>1</td>\n",
       "      <td>0</td>\n",
       "      <td>0</td>\n",
       "      <td>Q1, 2000</td>\n",
       "      <td>76.333333</td>\n",
       "    </tr>\n",
       "    <tr>\n",
       "      <th>2</th>\n",
       "      <td>241.0</td>\n",
       "      <td>2000-02-04</td>\n",
       "      <td>2000.0</td>\n",
       "      <td>1999.0</td>\n",
       "      <td>1.0</td>\n",
       "      <td>2000.0</td>\n",
       "      <td>1, 2000</td>\n",
       "      <td>Q4, 1999</td>\n",
       "      <td>Q1 - 2000</td>\n",
       "      <td>7.0</td>\n",
       "      <td>...</td>\n",
       "      <td>1</td>\n",
       "      <td>0</td>\n",
       "      <td>0</td>\n",
       "      <td>0</td>\n",
       "      <td>0</td>\n",
       "      <td>1</td>\n",
       "      <td>0</td>\n",
       "      <td>0</td>\n",
       "      <td>Q2, 2000</td>\n",
       "      <td>70.000000</td>\n",
       "    </tr>\n",
       "    <tr>\n",
       "      <th>3</th>\n",
       "      <td>199.0</td>\n",
       "      <td>2000-03-20</td>\n",
       "      <td>2000.0</td>\n",
       "      <td>1999.0</td>\n",
       "      <td>1.0</td>\n",
       "      <td>2000.0</td>\n",
       "      <td>1, 2000</td>\n",
       "      <td>Q4, 1999</td>\n",
       "      <td>Q1 - 2000</td>\n",
       "      <td>3.0</td>\n",
       "      <td>...</td>\n",
       "      <td>1</td>\n",
       "      <td>0</td>\n",
       "      <td>0</td>\n",
       "      <td>0</td>\n",
       "      <td>0</td>\n",
       "      <td>1</td>\n",
       "      <td>0</td>\n",
       "      <td>0</td>\n",
       "      <td>Q3, 2000</td>\n",
       "      <td>67.333333</td>\n",
       "    </tr>\n",
       "    <tr>\n",
       "      <th>4</th>\n",
       "      <td>34.0</td>\n",
       "      <td>2000-02-25</td>\n",
       "      <td>2000.0</td>\n",
       "      <td>1999.0</td>\n",
       "      <td>1.0</td>\n",
       "      <td>2000.0</td>\n",
       "      <td>1, 2000</td>\n",
       "      <td>Q4, 1999</td>\n",
       "      <td>Q1 - 2000</td>\n",
       "      <td>47.0</td>\n",
       "      <td>...</td>\n",
       "      <td>1</td>\n",
       "      <td>0</td>\n",
       "      <td>0</td>\n",
       "      <td>0</td>\n",
       "      <td>0</td>\n",
       "      <td>1</td>\n",
       "      <td>0</td>\n",
       "      <td>0</td>\n",
       "      <td>Q4, 2000</td>\n",
       "      <td>67.333333</td>\n",
       "    </tr>\n",
       "  </tbody>\n",
       "</table>\n",
       "<p>5 rows × 31 columns</p>\n",
       "</div>"
      ],
      "text/plain": [
       "    text       date    year  year-1  quarter  year.1 quarter, year  \\\n",
       "0   97.0 2000-03-03  2000.0  1999.0      1.0  2000.0       1, 2000   \n",
       "1   45.0 2000-03-15  2000.0  1999.0      1.0  2000.0       1, 2000   \n",
       "2  241.0 2000-02-04  2000.0  1999.0      1.0  2000.0       1, 2000   \n",
       "3  199.0 2000-03-20  2000.0  1999.0      1.0  2000.0       1, 2000   \n",
       "4   34.0 2000-02-25  2000.0  1999.0      1.0  2000.0       1, 2000   \n",
       "\n",
       "  previous_quart    Quarter  neg_words     ...       Previous Year NATO  \\\n",
       "0       Q4, 1999  Q1 - 2000       27.0     ...                        1   \n",
       "1       Q4, 1999  Q1 - 2000        2.0     ...                        1   \n",
       "2       Q4, 1999  Q1 - 2000        7.0     ...                        1   \n",
       "3       Q4, 1999  Q1 - 2000        3.0     ...                        1   \n",
       "4       Q4, 1999  Q1 - 2000       47.0     ...                        1   \n",
       "\n",
       "   QNATO_expansion QNATO_expansion1 Q-1NATO_expansion Q-1NATO_expansion1  \\\n",
       "0                0                0                 0                  0   \n",
       "1                0                0                 0                  0   \n",
       "2                0                0                 0                  0   \n",
       "3                0                0                 0                  0   \n",
       "4                0                0                 0                  0   \n",
       "\n",
       "  1999NATO 2004NATO  2009NATO  Unnamed: 29  Unnamed: 30  \n",
       "0        1        0         0     Q4, 1999    74.666667  \n",
       "1        1        0         0     Q1, 2000    76.333333  \n",
       "2        1        0         0     Q2, 2000    70.000000  \n",
       "3        1        0         0     Q3, 2000    67.333333  \n",
       "4        1        0         0     Q4, 2000    67.333333  \n",
       "\n",
       "[5 rows x 31 columns]"
      ]
     },
     "execution_count": 110,
     "metadata": {},
     "output_type": "execute_result"
    }
   ],
   "source": [
    "words.head()"
   ]
  },
  {
   "cell_type": "code",
   "execution_count": 242,
   "metadata": {
    "collapsed": true
   },
   "outputs": [],
   "source": [
    "def dups(dup, dff):\n",
    "    ind_list = []\n",
    "    text_list = []\n",
    "    for i, x in enumerate(dup):\n",
    "        if x == True:\n",
    "            ind_list.append(i)\n",
    "    for i in ind_list:\n",
    "        dupi = dff.iloc[i]['text']\n",
    "        text_list.append(dupi)\n",
    "    return text_list\n",
    "    "
   ]
  },
  {
   "cell_type": "code",
   "execution_count": 245,
   "metadata": {
    "collapsed": false
   },
   "outputs": [],
   "source": [
    "def print_dups(inds):\n",
    "    with open('repeats.txt', 'w') as text:\n",
    "        for i in inds:\n",
    "            text.write('{0}\\n'.format(i))"
   ]
  },
  {
   "cell_type": "code",
   "execution_count": 246,
   "metadata": {
    "collapsed": false
   },
   "outputs": [
    {
     "name": "stdout",
     "output_type": "stream",
     "text": [
      "[1968, 5979, 9637, 14088, 17118, 19825, 47173, 50864, 53379]\n"
     ]
    }
   ],
   "source": [
    "dups_sent = sents.duplicated(subset='text')\n",
    "sl_dup = dups(dups_sent, sents)\n",
    "print(sl_dup)\n",
    "print_dups(sl_dup)"
   ]
  },
  {
   "cell_type": "code",
   "execution_count": 211,
   "metadata": {
    "collapsed": false
   },
   "outputs": [],
   "source": [
    "def make_dict(dff, sents=True):\n",
    "    df_dict = dd(list)\n",
    "    count = 0\n",
    "    if sents == True:\n",
    "        q = dff['quarter']\n",
    "        w = dff['agr_classified']\n",
    "        t = dff['text']\n",
    "    else:\n",
    "        q = dff['quarter']\n",
    "        w = dff['neg_words']\n",
    "        t = dff['text']\n",
    "    for num in t:\n",
    "        df_dict[int(num)] = [int(q[count]), int(w[count])]\n",
    "        count += 1\n",
    "    return df_dict"
   ]
  },
  {
   "cell_type": "code",
   "execution_count": 212,
   "metadata": {
    "collapsed": false
   },
   "outputs": [],
   "source": [
    "words = words[np.isfinite(words['text'])]\n",
    "sents_dict = make_dict(sents)\n",
    "words_dict = make_dict(words, False)"
   ]
  },
  {
   "cell_type": "code",
   "execution_count": 213,
   "metadata": {
    "collapsed": false
   },
   "outputs": [
    {
     "name": "stdout",
     "output_type": "stream",
     "text": [
      "[4, 346]\n"
     ]
    }
   ],
   "source": [
    "print(sents_dict[1968])"
   ]
  },
  {
   "cell_type": "code",
   "execution_count": 208,
   "metadata": {
    "collapsed": false
   },
   "outputs": [],
   "source": [
    "def check(ddf1, ddf2):\n",
    "    q_mistakes = dd(list)\n",
    "    w_mistakes = dd(list)\n",
    "    t_mistakes = dd(list)\n",
    "    for k,v in ddf1.items():\n",
    "        if ddf2[k] == []:\n",
    "            t_mistakes[k] = v\n",
    "        elif ddf1[k] != []:\n",
    "            if k == 1968:\n",
    "                print(ddf1[k], ddf2[k])\n",
    "                sysjfnvj\n",
    "            if ddf1[k][0] != ddf2[k][0]:\n",
    "                q_mistakes[k] = v\n",
    "            if ddf1[k][1] != ddf2[k][1]:\n",
    "                w_mistakes[k] = v\n",
    "    return (t_mistakes, q_mistakes, w_mistakes)"
   ]
  },
  {
   "cell_type": "code",
   "execution_count": 209,
   "metadata": {
    "collapsed": false
   },
   "outputs": [
    {
     "name": "stdout",
     "output_type": "stream",
     "text": [
      "[4, 346] [4, 117]\n"
     ]
    },
    {
     "ename": "NameError",
     "evalue": "name 'sysjfnvj' is not defined",
     "output_type": "error",
     "traceback": [
      "\u001b[0;31m---------------------------------------------------------------------------\u001b[0m",
      "\u001b[0;31mNameError\u001b[0m                                 Traceback (most recent call last)",
      "\u001b[0;32m<ipython-input-209-691d31be6e0f>\u001b[0m in \u001b[0;36m<module>\u001b[0;34m()\u001b[0m\n\u001b[0;32m----> 1\u001b[0;31m \u001b[0msent_has\u001b[0m \u001b[0;34m=\u001b[0m \u001b[0mcheck\u001b[0m\u001b[0;34m(\u001b[0m\u001b[0msents_dict\u001b[0m\u001b[0;34m,\u001b[0m \u001b[0mwords_dict\u001b[0m\u001b[0;34m)\u001b[0m\u001b[0;34m\u001b[0m\u001b[0m\n\u001b[0m\u001b[1;32m      2\u001b[0m \u001b[0mwords_has\u001b[0m \u001b[0;34m=\u001b[0m \u001b[0mcheck\u001b[0m\u001b[0;34m(\u001b[0m\u001b[0mwords_dict\u001b[0m\u001b[0;34m,\u001b[0m \u001b[0msents_dict\u001b[0m\u001b[0;34m)\u001b[0m\u001b[0;34m\u001b[0m\u001b[0m\n\u001b[1;32m      3\u001b[0m \u001b[0mprint\u001b[0m\u001b[0;34m(\u001b[0m\u001b[0msent_has\u001b[0m\u001b[0;34m[\u001b[0m\u001b[0;36m1\u001b[0m\u001b[0;34m]\u001b[0m\u001b[0;34m,\u001b[0m \u001b[0mwords_has\u001b[0m\u001b[0;34m[\u001b[0m\u001b[0;36m1\u001b[0m\u001b[0;34m]\u001b[0m\u001b[0;34m)\u001b[0m\u001b[0;34m\u001b[0m\u001b[0m\n",
      "\u001b[0;32m<ipython-input-208-044de9923688>\u001b[0m in \u001b[0;36mcheck\u001b[0;34m(ddf1, ddf2)\u001b[0m\n\u001b[1;32m      9\u001b[0m             \u001b[0;32mif\u001b[0m \u001b[0mk\u001b[0m \u001b[0;34m==\u001b[0m \u001b[0;36m1968\u001b[0m\u001b[0;34m:\u001b[0m\u001b[0;34m\u001b[0m\u001b[0m\n\u001b[1;32m     10\u001b[0m                 \u001b[0mprint\u001b[0m\u001b[0;34m(\u001b[0m\u001b[0mddf1\u001b[0m\u001b[0;34m[\u001b[0m\u001b[0mk\u001b[0m\u001b[0;34m]\u001b[0m\u001b[0;34m,\u001b[0m \u001b[0mddf2\u001b[0m\u001b[0;34m[\u001b[0m\u001b[0mk\u001b[0m\u001b[0;34m]\u001b[0m\u001b[0;34m)\u001b[0m\u001b[0;34m\u001b[0m\u001b[0m\n\u001b[0;32m---> 11\u001b[0;31m                 \u001b[0msysjfnvj\u001b[0m\u001b[0;34m\u001b[0m\u001b[0m\n\u001b[0m\u001b[1;32m     12\u001b[0m             \u001b[0;32mif\u001b[0m \u001b[0mddf1\u001b[0m\u001b[0;34m[\u001b[0m\u001b[0mk\u001b[0m\u001b[0;34m]\u001b[0m\u001b[0;34m[\u001b[0m\u001b[0;36m0\u001b[0m\u001b[0;34m]\u001b[0m \u001b[0;34m!=\u001b[0m \u001b[0mddf2\u001b[0m\u001b[0;34m[\u001b[0m\u001b[0mk\u001b[0m\u001b[0;34m]\u001b[0m\u001b[0;34m[\u001b[0m\u001b[0;36m0\u001b[0m\u001b[0;34m]\u001b[0m\u001b[0;34m:\u001b[0m\u001b[0;34m\u001b[0m\u001b[0m\n\u001b[1;32m     13\u001b[0m                 \u001b[0mq_mistakes\u001b[0m\u001b[0;34m[\u001b[0m\u001b[0mk\u001b[0m\u001b[0;34m]\u001b[0m \u001b[0;34m=\u001b[0m \u001b[0mv\u001b[0m\u001b[0;34m\u001b[0m\u001b[0m\n",
      "\u001b[0;31mNameError\u001b[0m: name 'sysjfnvj' is not defined"
     ]
    }
   ],
   "source": [
    "sent_has = check(sents_dict, words_dict)\n",
    "words_has = check(words_dict, sents_dict)\n",
    "print(sent_has[1], words_has[1])"
   ]
  },
  {
   "cell_type": "code",
   "execution_count": 204,
   "metadata": {
    "collapsed": false
   },
   "outputs": [],
   "source": [
    "def make_csv(s_has, w_has):\n",
    "    ts = list(s_has[0].keys())\n",
    "    ws = list(s_has[2].keys())\n",
    "    tw = list(w_has[0].keys())\n",
    "    with open('Not_in_words.txt', 'w') as text:\n",
    "        for x in ts:\n",
    "            text.write('{0}\\n'.format(x))\n",
    "    with open('Not_in_sentences.txt', 'w') as text:\n",
    "        for x in tw:\n",
    "            text.write('{0}\\n'.format(x))\n",
    "    with open('Differing_in_count.txt', 'w') as text:\n",
    "        for x in ws:\n",
    "            text.write('{0}\\n'.format(x))"
   ]
  },
  {
   "cell_type": "code",
   "execution_count": 205,
   "metadata": {
    "collapsed": false
   },
   "outputs": [],
   "source": [
    "make_csv(sent_has, words_has)"
   ]
  },
  {
   "cell_type": "code",
   "execution_count": null,
   "metadata": {
    "collapsed": true
   },
   "outputs": [],
   "source": []
  }
 ],
 "metadata": {
  "anaconda-cloud": {},
  "kernelspec": {
   "display_name": "Python [conda env:conda3]",
   "language": "python",
   "name": "conda-env-conda3-py"
  },
  "language_info": {
   "codemirror_mode": {
    "name": "ipython",
    "version": 3
   },
   "file_extension": ".py",
   "mimetype": "text/x-python",
   "name": "python",
   "nbconvert_exporter": "python",
   "pygments_lexer": "ipython3",
   "version": "3.5.2"
  }
 },
 "nbformat": 4,
 "nbformat_minor": 1
}
